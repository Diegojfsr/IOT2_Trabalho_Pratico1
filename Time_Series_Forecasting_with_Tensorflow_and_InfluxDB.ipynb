{
  "cells": [
    {
      "cell_type": "code",
      "source": [
        "!pip3 install influxdb-client"
      ],
      "metadata": {
        "id": "xqXIZ3G7X93R"
      },
      "id": "xqXIZ3G7X93R",
      "execution_count": null,
      "outputs": []
    },
    {
      "cell_type": "code",
      "execution_count": null,
      "id": "4a8f72f0-ba13-4821-b45f-179822e7e919",
      "metadata": {
        "id": "4a8f72f0-ba13-4821-b45f-179822e7e919"
      },
      "outputs": [],
      "source": [
        "## importando as dependências\n",
        "import tensorflow as tf \n",
        "import numpy as np\n",
        "import pandas as pd\n",
        "\n",
        "## Loading the data as a pandas dataframe \n",
        "data = pd.read_csv(\"https://raw.githubusercontent.com/gouravsinghbais/Time-Series-Forecasting-with-Tensorflow-and-InfluxDB/master/sunspots-dataset/Sunspots.csv\", index_col=0) \n",
        "## show first dew rows of the dataset\n",
        "data.head()"
      ]
    },
    {
      "cell_type": "code",
      "execution_count": null,
      "id": "3d1c7730-8d43-438c-a5e1-b2e5b37ffa06",
      "metadata": {
        "id": "3d1c7730-8d43-438c-a5e1-b2e5b37ffa06"
      },
      "outputs": [],
      "source": [
        "## importando as dependências\n",
        "from influxdb_client import InfluxDBClient, Point, WritePrecision\n",
        "from influxdb_client.client.write_api import SYNCHRONOUS\n",
        "\n",
        "\n",
        "token = \"0YEm6OcpmWEv8IO7dYegRkt_xhWZgkU86yXcGcQ5zbGvLGp_Zlm6COlPr3DsoU-8Eqe6B0bFNbPpFfaOt1l6ZQ==\"\n",
        "org = \"diegojefferson741@gmail.com\"\n",
        "bucket = \"iot\"\n",
        "url=\"https://europe-west1-1.gcp.cloud2.influxdata.com\"\n",
        "## conectando ao InfluxDB\n",
        "client = InfluxDBClient(url=url , token=token, org = org)"
      ]
    },
    {
      "cell_type": "code",
      "execution_count": null,
      "id": "9d439254-0d10-48b7-86b8-fcf7fca9e013",
      "metadata": {
        "id": "9d439254-0d10-48b7-86b8-fcf7fca9e013"
      },
      "outputs": [],
      "source": [
        "# convertendo coluna Date para datetime\n",
        "data['Date'] = pd.to_datetime(data['Date'])\n",
        "\n",
        "## cria data como índice\n",
        "data.set_index(data['Date'], drop = True, inplace = True)\n",
        "data.drop('Date', axis = 1, inplace = True)\n",
        "data.head()"
      ]
    },
    {
      "cell_type": "code",
      "execution_count": null,
      "id": "eb8e4acc-80cb-492c-85ed-e07d9afc9011",
      "metadata": {
        "id": "eb8e4acc-80cb-492c-85ed-e07d9afc9011"
      },
      "outputs": [],
      "source": [
        "## cria objeto de escrita da API\n",
        "## SYNCHRONOUS: armazena múltiplos registros de data por vez\n",
        "write_api = client.write_api(write_options=SYNCHRONOUS)"
      ]
    },
    {
      "cell_type": "code",
      "execution_count": null,
      "id": "0397bd5f-1747-41b0-8e40-95c469db42ed",
      "metadata": {
        "id": "0397bd5f-1747-41b0-8e40-95c469db42ed"
      },
      "outputs": [],
      "source": [
        "## armazena dados no influxdb\n",
        "## write data to influxdb\n",
        "response = write_api.write(bucket, org=org, record = data, data_frame_measurement_name='sunspot',\n",
        "                    \tdata_frame_tag_columns=['sunspot'])"
      ]
    },
    {
      "cell_type": "code",
      "execution_count": null,
      "id": "a1b1ca76-08a2-4696-9c9f-e4c6918598e4",
      "metadata": {
        "id": "a1b1ca76-08a2-4696-9c9f-e4c6918598e4"
      },
      "outputs": [],
      "source": [
        "## busca os dados (utiliza linguagem Flux)\n",
        "## Recupera dos dados dos últimos 275 anos\n",
        "query_api = client.query_api()\n",
        "tables = query_api.query('from(bucket:\"iot\") |> range(start: -275y)')"
      ]
    },
    {
      "cell_type": "code",
      "execution_count": null,
      "id": "d70ff3df-acf9-4ab1-aaa4-f1087ba8e120",
      "metadata": {
        "id": "d70ff3df-acf9-4ab1-aaa4-f1087ba8e120"
      },
      "outputs": [],
      "source": []
    }
  ],
  "metadata": {
    "kernelspec": {
      "display_name": "Python 3 (ipykernel)",
      "language": "python",
      "name": "python3"
    },
    "language_info": {
      "codemirror_mode": {
        "name": "ipython",
        "version": 3
      },
      "file_extension": ".py",
      "mimetype": "text/x-python",
      "name": "python",
      "nbconvert_exporter": "python",
      "pygments_lexer": "ipython3",
      "version": "3.9.7"
    },
    "colab": {
      "provenance": [],
      "collapsed_sections": []
    },
    "accelerator": "GPU"
  },
  "nbformat": 4,
  "nbformat_minor": 5
}